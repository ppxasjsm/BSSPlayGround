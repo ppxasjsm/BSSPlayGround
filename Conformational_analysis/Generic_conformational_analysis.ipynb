{
 "cells": [
  {
   "cell_type": "code",
   "execution_count": 1,
   "metadata": {},
   "outputs": [],
   "source": [
    "import BioSimSpace as BSS"
   ]
  },
  {
   "cell_type": "code",
   "execution_count": 2,
   "metadata": {},
   "outputs": [],
   "source": [
    "node = BSS.Gateway.Node(\"A node to parameterise a small molecule, run MD and do a conformational analysis.\")\n",
    "node.addAuthor(name=\"Antonia Mey\", email=\"antonia.mey@ed.ac.uk\", affiliation=\"University of Edinburgh\")\n",
    "node.setLicense(\"GPLv3\")"
   ]
  },
  {
   "cell_type": "code",
   "execution_count": 3,
   "metadata": {},
   "outputs": [],
   "source": [
    "node.addInput(\"file\", BSS.Gateway.File(help=\"A molecular input file, e.g. a PDB file.\"))\n",
    "\n",
    "node.addInput(\"forcefield\", BSS.Gateway.String(help=\"The name of the force field to use for parameterisation.\",\n",
    "                                               allowed=BSS.Parameters.forceFields(), default=\"gaff\"))\n",
    "\n",
    "node.addInput(\"water\", BSS.Gateway.String(help=\"The name of the water model to use for solvation.\",\n",
    "                                          allowed=BSS.Solvent.waterModels(), default=\"tip3p\"))\n",
    "\n",
    "node.addInput(\"box_size\", BSS.Gateway.Length(help=\"The base length of the cubic simulation box.\", unit=\"nanometer\"))\n",
    "\n",
    "node.addInput(\"ion_conc\", BSS.Gateway.Float(help=\"The ionic concentration in mol/litre.\",\n",
    "                                            minimum=0, maximum=1, default=0))\n",
    "node.addInput(\"minimisation_step\", BSS.Gateway.Integer(help=\"The number of minimisation steps\", default=1000))"
   ]
  },
  {
   "cell_type": "code",
   "execution_count": 4,
   "metadata": {},
   "outputs": [
    {
     "data": {
      "application/vnd.jupyter.widget-view+json": {
       "model_id": "5facd14530a242f884fe8f88d93b52b8",
       "version_major": 2,
       "version_minor": 0
      },
      "text/plain": [
       "Box(children=(Box(children=(Box(children=(Label(value='file: A molecular input file, e.g. a PDB file.'), FileU…"
      ]
     },
     "metadata": {},
     "output_type": "display_data"
    },
    {
     "name": "stdout",
     "output_type": "stream",
     "text": [
      "Uploaded '2-cyclopentanylindole.mol2' (2.97 kB)\n"
     ]
    }
   ],
   "source": [
    "node.showControls()"
   ]
  },
  {
   "cell_type": "code",
   "execution_count": 5,
   "metadata": {},
   "outputs": [],
   "source": [
    "## Parmetrisation"
   ]
  },
  {
   "cell_type": "code",
   "execution_count": 5,
   "metadata": {},
   "outputs": [],
   "source": [
    "system = BSS.IO.readMolecules(node.getInput(\"file\"))\n",
    "molecule = system.getMolecules()[0]\n",
    "molecule = BSS.Parameters.parameterise(molecule, node.getInput(\"forcefield\")).getMolecule()\n",
    "system = BSS.Solvent.solvate(node.getInput(\"water\"), molecule=molecule,\n",
    "                                                     box=3 * [node.getInput(\"box_size\")],\n",
    "                                                     ion_conc=node.getInput(\"ion_conc\"))"
   ]
  },
  {
   "cell_type": "code",
   "execution_count": 6,
   "metadata": {},
   "outputs": [],
   "source": [
    "## Minimisation"
   ]
  },
  {
   "cell_type": "code",
   "execution_count": 7,
   "metadata": {},
   "outputs": [],
   "source": [
    "protocol = BSS.Protocol.Minimisation(node.getInput(\"minimisation_step\"))\n",
    "process = BSS.MD.run(system, protocol, name=\"minimise\")"
   ]
  },
  {
   "cell_type": "code",
   "execution_count": 13,
   "metadata": {},
   "outputs": [],
   "source": [
    "min_syst = process.getSystem()"
   ]
  },
  {
   "cell_type": "code",
   "execution_count": null,
   "metadata": {},
   "outputs": [],
   "source": [
    "## NVT Heating"
   ]
  },
  {
   "cell_type": "code",
   "execution_count": 14,
   "metadata": {},
   "outputs": [],
   "source": [
    "protocol = BSS.Protocol.Equilibration(temperature_start=100*BSS.Units.Temperature.kelvin, temperature_end=300*BSS.Units.Temperature.kelvin)\n",
    "process = BSS.MD.run(min_syst, protocol, name=\"equilibrate\")"
   ]
  },
  {
   "cell_type": "code",
   "execution_count": 25,
   "metadata": {},
   "outputs": [
    {
     "name": "stdout",
     "output_type": "stream",
     "text": [
      "46.6000 ns 143.7550 K -9.5796e+04 kJ/mol\n"
     ]
    }
   ],
   "source": [
    "print(process.getTime(), process.getTemperature(), process.getTotalEnergy())"
   ]
  },
  {
   "cell_type": "code",
   "execution_count": 26,
   "metadata": {},
   "outputs": [
    {
     "data": {
      "image/png": "[encoded data removed]",
      "text/plain": [
       "<Figure size 576x432 with 1 Axes>"
      ]
     },
     "metadata": {
      "needs_background": "light"
     },
     "output_type": "display_data"
    }
   ],
   "source": [
    "# Generate a plot of time vs temperature.\n",
    "plot1 = BSS.Notebook.plot(process.getTime(time_series=True),\n",
    "    process.getTemperature(time_series=True))\n"
   ]
  },
  {
   "cell_type": "code",
   "execution_count": 27,
   "metadata": {},
   "outputs": [],
   "source": [
    "process.kill()"
   ]
  },
  {
   "cell_type": "code",
   "execution_count": null,
   "metadata": {},
   "outputs": [],
   "source": [
    "nvt_syst = process.getSystem()"
   ]
  },
  {
   "cell_type": "code",
   "execution_count": null,
   "metadata": {},
   "outputs": [],
   "source": [
    "## NPT equilibration"
   ]
  },
  {
   "cell_type": "code",
   "execution_count": null,
   "metadata": {},
   "outputs": [],
   "source": []
  },
  {
   "cell_type": "code",
   "execution_count": null,
   "metadata": {},
   "outputs": [],
   "source": []
  },
  {
   "cell_type": "code",
   "execution_count": null,
   "metadata": {},
   "outputs": [],
   "source": []
  }
 ],
 "metadata": {
  "kernelspec": {
   "display_name": "Python 3",
   "language": "python",
   "name": "python3"
  },
  "language_info": {
   "codemirror_mode": {
    "name": "ipython",
    "version": 3
   },
   "file_extension": ".py",
   "mimetype": "text/x-python",
   "name": "python",
   "nbconvert_exporter": "python",
   "pygments_lexer": "ipython3",
   "version": "3.6.8"
  }
 },
 "nbformat": 4,
 "nbformat_minor": 2
}
