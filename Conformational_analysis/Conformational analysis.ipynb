{
 "cells": [
  {
   "cell_type": "markdown",
   "metadata": {},
   "source": [
    "## Conformational analysis of a small molecule\n",
    "Conformational analysis node modeled based on a workflow from Evotec"
   ]
  },
  {
   "cell_type": "code",
   "execution_count": 1,
   "metadata": {
    "collapsed": true
   },
   "outputs": [],
   "source": [
    "import BioSimSpace as BSS"
   ]
  },
  {
   "cell_type": "code",
   "execution_count": 2,
   "metadata": {
    "collapsed": true
   },
   "outputs": [],
   "source": [
    "node = BSS.Gateway.Node(\"A node to parameterise a small molecule, run MD and do a conformational analysis.\")"
   ]
  },
  {
   "cell_type": "code",
   "execution_count": 3,
   "metadata": {
    "collapsed": true
   },
   "outputs": [],
   "source": [
    "node.addAuthor(name=\"Antonia Mey\", email=\"antonia.mey@ed.ac.uk\", affiliation=\"University of Edinburgh\")\n",
    "node.setLicense(\"GPLv3\")"
   ]
  },
  {
   "cell_type": "code",
   "execution_count": 4,
   "metadata": {
    "collapsed": true
   },
   "outputs": [],
   "source": [
    "node.addInput(\"file\", BSS.Gateway.File(help=\"A molecular input file, e.g. a PDB file.\"))\n",
    "\n",
    "node.addInput(\"forcefield\", BSS.Gateway.String(help=\"The name of the force field to use for parameterisation.\",\n",
    "                                               allowed=BSS.Parameters.forceFields(), default=\"gaff\"))\n",
    "\n",
    "node.addInput(\"water\", BSS.Gateway.String(help=\"The name of the water model to use for solvation.\",\n",
    "                                          allowed=BSS.Solvent.waterModels(), default=\"tip3p\"))\n",
    "\n",
    "node.addInput(\"box_size\", BSS.Gateway.Length(help=\"The base length of the cubic simulation box.\", unit=\"nanometer\"))\n",
    "\n",
    "node.addInput(\"ion_conc\", BSS.Gateway.Float(help=\"The ionic concentration in mol/litre.\",\n",
    "                                            minimum=0, maximum=1, default=0))\n",
    "node.addInput(\"minimize\", BSS.Gateway.String(help=\"Config file for minimisation\"))\n",
    "node.addInput(\"step2\", BSS.Gateway.String(help=\"Config file for step2 equilibration\"))\n",
    "node.addInput(\"step3\", BSS.Gateway.String(help=\"Config file for step3 equilibration\"))\n",
    "node.addInput(\"step4\", BSS.Gateway.String(help=\"Config file for step4 equilibration\"))\n",
    "node.addInput(\"step5\", BSS.Gateway.String(help=\"Config file for step5 equilibration\"))\n",
    "node.addInput(\"production\", BSS.Gateway.String(help=\"Config file for production run\"))\n"
   ]
  },
  {
   "cell_type": "markdown",
   "metadata": {},
   "source": [
    "## Add optional output"
   ]
  },
  {
   "cell_type": "code",
   "execution_count": 5,
   "metadata": {
    "collapsed": true
   },
   "outputs": [],
   "source": [
    "node.addOutput(\"system\", BSS.Gateway.FileSet(help=\"The parameterised and solvated molecular system in AMBER format.\"))"
   ]
  },
  {
   "cell_type": "code",
   "execution_count": 149,
   "metadata": {
    "collapsed": true
   },
   "outputs": [],
   "source": [
    "node.addOutput(\"equ5_out\", BSS.Gateway.File(help=\"The output for equilibration 5 output.\"))\n"
   ]
  },
  {
   "cell_type": "code",
   "execution_count": 6,
   "metadata": {
    "collapsed": true
   },
   "outputs": [
    {
     "data": {
      "application/vnd.jupyter.widget-view+json": {
       "model_id": "a2f3bfe782104dc59d2707537156dab9",
       "version_major": 2,
       "version_minor": 0
      },
      "text/plain": [
       "Box(children=(Box(children=(Box(children=(Label(value='file: A molecular input file, e.g. a PDB file.'), FileU…"
      ]
     },
     "metadata": {},
     "output_type": "display_data"
    },
    {
     "name": "stdout",
     "output_type": "stream",
     "text": [
      "Uploaded '2-cyclopentanylindole.mol2' (2.97 kB)\n"
     ]
    }
   ],
   "source": [
    "node.showControls()"
   ]
  },
  {
   "cell_type": "markdown",
   "metadata": {},
   "source": [
    "## Setting the system up\n",
    "The following reads and parametrises a small molecule and will save it the specified output. "
   ]
  },
  {
   "cell_type": "code",
   "execution_count": 7,
   "metadata": {
    "collapsed": true
   },
   "outputs": [],
   "source": [
    "system = BSS.IO.readMolecules(node.getInput(\"file\"))\n",
    "molecule = system.getMolecules()[0]\n",
    "molecule = BSS.Parameters.parameterise(molecule, node.getInput(\"forcefield\")).getMolecule()\n",
    "system = BSS.Solvent.solvate(node.getInput(\"water\"), molecule=molecule,\n",
    "                                                     box=3 * [node.getInput(\"box_size\")],\n",
    "                                                     ion_conc=node.getInput(\"ion_conc\"))\n",
    "\n",
    "node.setOutput(\"system\", BSS.IO.saveMolecules(\"system\", system, [\"prm7\", \"rst7\", \"PDB\"]))"
   ]
  },
  {
   "cell_type": "markdown",
   "metadata": {},
   "source": [
    "## Step 1-5 of the equilibrations"
   ]
  },
  {
   "cell_type": "markdown",
   "metadata": {},
   "source": [
    "### Minimisation"
   ]
  },
  {
   "cell_type": "code",
   "execution_count": 51,
   "metadata": {
    "collapsed": true
   },
   "outputs": [],
   "source": [
    "protocol = BSS.Protocol.Minimisation()\n",
    "process = BSS.Process.Amber(system, protocol, name=\"minimize\")\n",
    "process.setConfig(node.getInput(\"minimize\"))\n",
    "process.setArg('-ref', 'minimize.rst7')"
   ]
  },
  {
   "cell_type": "code",
   "execution_count": 58,
   "metadata": {
    "collapsed": true
   },
   "outputs": [
    {
     "data": {
      "text/plain": [
       "BioSimSpace.Process.Amber(<BioSimSpace.System: nMolecules=2156>, BioSimSpace.Protocol.Minimisation(steps=10000), exe='/home/ppxasjsm/Software/amber18//bin/sander', name='minimize', work_dir='/tmp/tmpnjs83n2d', seed=None)"
      ]
     },
     "execution_count": 58,
     "metadata": {},
     "output_type": "execute_result"
    }
   ],
   "source": [
    "process.start()"
   ]
  },
  {
   "cell_type": "code",
   "execution_count": 62,
   "metadata": {
    "collapsed": true
   },
   "outputs": [],
   "source": [
    "minimised = process.getSystem()"
   ]
  },
  {
   "cell_type": "code",
   "execution_count": 63,
   "metadata": {
    "collapsed": true
   },
   "outputs": [
    {
     "name": "stdout",
     "output_type": "stream",
     "text": [
      "\n",
      "Written minimised molecular structure to: ['/home/ppxasjsm/Projects/git/BioSimSpace/minimised.grotop', '/home/ppxasjsm/Projects/git/BioSimSpace/minimised.gro87']\n"
     ]
    }
   ],
   "source": [
    "filenames = BSS.IO.saveMolecules(\"minimised\", minimised, system.fileFormat())\n",
    "print(\"\\nWritten minimised molecular structure to: %s\" % filenames)"
   ]
  },
  {
   "cell_type": "markdown",
   "metadata": {},
   "source": [
    "### Equilibration 2"
   ]
  },
  {
   "cell_type": "code",
   "execution_count": 65,
   "metadata": {
    "collapsed": true
   },
   "outputs": [],
   "source": [
    "protocol = BSS.Protocol.Equilibration()\n",
    "process = BSS.Process.Amber(minimised, protocol, name=\"equ2\")\n",
    "process.setConfig(node.getInput(\"step2\"))"
   ]
  },
  {
   "cell_type": "code",
   "execution_count": 68,
   "metadata": {
    "collapsed": true
   },
   "outputs": [
    {
     "data": {
      "text/plain": [
       "BioSimSpace.Process.Amber(<BioSimSpace.System: nMolecules=2156>, BioSimSpace.Protocol.Equilibration(timestep=2.0000 fs, runtime=0.2000 ns, temperature_start=300.0000 K, temperature_end=300.0000 K, frames=20, ensemble='NVT', restrain_backbone=False), exe='/home/ppxasjsm/Software/amber18//bin/sander', name='equ2', work_dir='/tmp/tmpmf7e9shk', seed=None)"
      ]
     },
     "execution_count": 68,
     "metadata": {},
     "output_type": "execute_result"
    }
   ],
   "source": [
    "process.start()"
   ]
  },
  {
   "cell_type": "code",
   "execution_count": 77,
   "metadata": {
    "collapsed": true
   },
   "outputs": [
    {
     "data": {
      "text/plain": [
       "False"
      ]
     },
     "execution_count": 77,
     "metadata": {},
     "output_type": "execute_result"
    }
   ],
   "source": [
    "process.isError()"
   ]
  },
  {
   "cell_type": "code",
   "execution_count": 76,
   "metadata": {
    "collapsed": true
   },
   "outputs": [],
   "source": [
    "equ2 = process.getSystem()"
   ]
  },
  {
   "cell_type": "markdown",
   "metadata": {},
   "source": [
    "### Equilibration 3"
   ]
  },
  {
   "cell_type": "code",
   "execution_count": 83,
   "metadata": {
    "collapsed": true
   },
   "outputs": [],
   "source": [
    "protocol = BSS.Protocol.Equilibration()\n",
    "process = BSS.Process.Amber(equ2, protocol, name=\"equ3\")\n",
    "process.setConfig(node.getInput(\"step3\"))"
   ]
  },
  {
   "cell_type": "code",
   "execution_count": 84,
   "metadata": {
    "collapsed": true
   },
   "outputs": [],
   "source": [
    "process.setArg('-ref', 'equ3.rst7')"
   ]
  },
  {
   "cell_type": "code",
   "execution_count": 85,
   "metadata": {
    "collapsed": true
   },
   "outputs": [
    {
     "data": {
      "text/plain": [
       "BioSimSpace.Process.Amber(<BioSimSpace.System: nMolecules=2156>, BioSimSpace.Protocol.Equilibration(timestep=2.0000 fs, runtime=0.2000 ns, temperature_start=300.0000 K, temperature_end=300.0000 K, frames=20, ensemble='NVT', restrain_backbone=False), exe='/home/ppxasjsm/Software/amber18//bin/sander', name='equ3', work_dir='/tmp/tmp0z58iy9a', seed=None)"
      ]
     },
     "execution_count": 85,
     "metadata": {},
     "output_type": "execute_result"
    }
   ],
   "source": [
    "process.start()"
   ]
  },
  {
   "cell_type": "code",
   "execution_count": 95,
   "metadata": {
    "collapsed": true
   },
   "outputs": [
    {
     "data": {
      "text/plain": [
       "False"
      ]
     },
     "execution_count": 95,
     "metadata": {},
     "output_type": "execute_result"
    }
   ],
   "source": [
    "process.isRunning()"
   ]
  },
  {
   "cell_type": "code",
   "execution_count": 96,
   "metadata": {
    "collapsed": true
   },
   "outputs": [
    {
     "data": {
      "text/plain": [
       "False"
      ]
     },
     "execution_count": 96,
     "metadata": {},
     "output_type": "execute_result"
    }
   ],
   "source": [
    "process.isError()"
   ]
  },
  {
   "cell_type": "code",
   "execution_count": 97,
   "metadata": {
    "collapsed": true
   },
   "outputs": [],
   "source": [
    "equ3 = process.getSystem()"
   ]
  },
  {
   "cell_type": "markdown",
   "metadata": {},
   "source": [
    "## Equilibration 4"
   ]
  },
  {
   "cell_type": "code",
   "execution_count": 98,
   "metadata": {
    "collapsed": true
   },
   "outputs": [],
   "source": [
    "protocol = BSS.Protocol.Equilibration()\n",
    "process = BSS.Process.Amber(equ3, protocol, name=\"equ4\")\n",
    "process.setConfig(node.getInput(\"step4\"))"
   ]
  },
  {
   "cell_type": "code",
   "execution_count": 99,
   "metadata": {
    "collapsed": true
   },
   "outputs": [],
   "source": [
    "process.setArg('-ref', 'equ4.rst7')"
   ]
  },
  {
   "cell_type": "code",
   "execution_count": 100,
   "metadata": {
    "collapsed": true
   },
   "outputs": [
    {
     "data": {
      "text/plain": [
       "BioSimSpace.Process.Amber(<BioSimSpace.System: nMolecules=2156>, BioSimSpace.Protocol.Equilibration(timestep=2.0000 fs, runtime=0.2000 ns, temperature_start=300.0000 K, temperature_end=300.0000 K, frames=20, ensemble='NVT', restrain_backbone=False), exe='/home/ppxasjsm/Software/amber18//bin/sander', name='equ4', work_dir='/tmp/tmptjvmxlr9', seed=None)"
      ]
     },
     "execution_count": 100,
     "metadata": {},
     "output_type": "execute_result"
    }
   ],
   "source": [
    "process.start()"
   ]
  },
  {
   "cell_type": "code",
   "execution_count": 108,
   "metadata": {
    "collapsed": true
   },
   "outputs": [],
   "source": [
    "equ4 = process.getSystem()"
   ]
  },
  {
   "cell_type": "markdown",
   "metadata": {},
   "source": [
    "## Equilibration 5"
   ]
  },
  {
   "cell_type": "code",
   "execution_count": 114,
   "metadata": {
    "collapsed": true
   },
   "outputs": [],
   "source": [
    "protocol = BSS.Protocol.Equilibration()\n",
    "process = BSS.Process.Amber(equ3, protocol, name=\"equ5\")\n",
    "process.setConfig(node.getInput(\"production\"))"
   ]
  },
  {
   "cell_type": "code",
   "execution_count": 115,
   "metadata": {
    "collapsed": true
   },
   "outputs": [
    {
     "data": {
      "text/plain": [
       "BioSimSpace.Process.Amber(<BioSimSpace.System: nMolecules=2156>, BioSimSpace.Protocol.Equilibration(timestep=2.0000 fs, runtime=0.2000 ns, temperature_start=300.0000 K, temperature_end=300.0000 K, frames=20, ensemble='NVT', restrain_backbone=False), exe='/home/ppxasjsm/Software/amber18//bin/sander', name='equ5', work_dir='/tmp/tmpu0_o2iv6', seed=None)"
      ]
     },
     "execution_count": 115,
     "metadata": {},
     "output_type": "execute_result"
    }
   ],
   "source": [
    "process.start()"
   ]
  },
  {
   "cell_type": "code",
   "execution_count": 151,
   "metadata": {
    "collapsed": true
   },
   "outputs": [
    {
     "data": {
      "text/html": [
       "<a href='equ5.zip' target='_blank'>equ5.zip</a><br>"
      ],
      "text/plain": [
       "/home/ppxasjsm/Projects/git/BioSimSpace/equ5.zip"
      ]
     },
     "execution_count": 151,
     "metadata": {},
     "output_type": "execute_result"
    }
   ],
   "source": [
    "process.getOutput()"
   ]
  },
  {
   "cell_type": "code",
   "execution_count": 146,
   "metadata": {
    "collapsed": true
   },
   "outputs": [],
   "source": [
    "equ5 = process.getSystem()"
   ]
  },
  {
   "cell_type": "markdown",
   "metadata": {},
   "source": [
    "## Production\n",
    "Running the production MD simulation. This may take a while. "
   ]
  },
  {
   "cell_type": "code",
   "execution_count": null,
   "metadata": {
    "collapsed": true
   },
   "outputs": [],
   "source": [
    "protocol = BSS.Protocol.Production()\n",
    "process = BSS.Process.Amber(equ5, protocol, name=\"prod\")\n",
    "process.setConfig(node.getInput(\"production\"))"
   ]
  },
  {
   "cell_type": "code",
   "execution_count": null,
   "metadata": {
    "collapsed": true
   },
   "outputs": [],
   "source": [
    "process.start()"
   ]
  },
  {
   "cell_type": "code",
   "execution_count": null,
   "metadata": {
    "collapsed": true
   },
   "outputs": [],
   "source": [
    "traj = process.getTrajectory()"
   ]
  },
  {
   "cell_type": "markdown",
   "metadata": {},
   "source": [
    "## Conformational analysis using pytraj"
   ]
  },
  {
   "cell_type": "code",
   "execution_count": null,
   "metadata": {
    "collapsed": true
   },
   "outputs": [],
   "source": [
    "import pytraj as pt"
   ]
  },
  {
   "cell_type": "code",
   "execution_count": null,
   "metadata": {
    "collapsed": true
   },
   "outputs": [],
   "source": []
  }
 ],
 "metadata": {
  "kernelspec": {
   "display_name": "Python 3",
   "language": "python",
   "name": "python3"
  },
  "language_info": {
   "codemirror_mode": {
    "name": "ipython",
    "version": 3
   },
   "file_extension": ".py",
   "mimetype": "text/x-python",
   "name": "python",
   "nbconvert_exporter": "python",
   "pygments_lexer": "ipython3",
   "version": "3.6.8"
  }
 },
 "nbformat": 4,
 "nbformat_minor": 2
}
